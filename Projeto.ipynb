{
 "cells": [
  {
   "cell_type": "code",
   "execution_count": 15,
   "id": "ccf4268e",
   "metadata": {},
   "outputs": [],
   "source": [
    "import os\n",
    "from langchain_groq import ChatGroq\n",
    "from langchain.prompts import ChatPromptTemplate"
   ]
  },
  {
   "cell_type": "code",
   "execution_count": null,
   "id": "59bd01e4",
   "metadata": {},
   "outputs": [],
   "source": [
    "api_key = ()\n",
    "os.environ['GROQ_API_KEY'] = api_key\n",
    "chat = ChatGroq(model='llama-3.3-70b-versatile')"
   ]
  },
  {
   "cell_type": "code",
   "execution_count": 36,
   "id": "0350c17b",
   "metadata": {},
   "outputs": [],
   "source": [
    "def resposta_bot(mensagens):\n",
    "    Mensagem_Recebida = [('system','você se chama Sexta Feira'),\n",
    "    ('system', 'nome do user e criador da sua aplicação é Luiz Felipe')]\n",
    "    Mensagem_Recebida += (mensagens)\n",
    "    templete = ChatPromptTemplate.from_messages(Mensagem_Recebida)\n",
    "\n",
    "    chain = templete | chat\n",
    "\n",
    "    return chain.invoke({}).content"
   ]
  },
  {
   "cell_type": "code",
   "execution_count": null,
   "id": "ca10faeb",
   "metadata": {},
   "outputs": [],
   "source": [
    "conversa = []\n",
    "\n",
    "while True:\n",
    "    pergunta = input('Digite sua pergunta: ')\n",
    "    if pergunta == 'x':\n",
    "        break\n",
    "    \n",
    "    conversa.append(('user', pergunta))\n",
    "    print(conversa[-1])\n",
    "    resposta = resposta_bot(conversa)\n",
    "    conversa.append(('assistant', resposta))\n",
    "    print(conversa[-1])\n",
    "\n",
    "print(\"Obrigado por usar nossos serviços\")"
   ]
  }
 ],
 "metadata": {
  "kernelspec": {
   "display_name": "Python 3",
   "language": "python",
   "name": "python3"
  },
  "language_info": {
   "codemirror_mode": {
    "name": "ipython",
    "version": 3
   },
   "file_extension": ".py",
   "mimetype": "text/x-python",
   "name": "python",
   "nbconvert_exporter": "python",
   "pygments_lexer": "ipython3",
   "version": "3.13.7"
  }
 },
 "nbformat": 4,
 "nbformat_minor": 5
}
