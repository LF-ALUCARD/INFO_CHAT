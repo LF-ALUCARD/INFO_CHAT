{
 "cells": [
  {
   "cell_type": "code",
   "execution_count": 33,
   "id": "ccf4268e",
   "metadata": {},
   "outputs": [],
   "source": [
    "import os\n",
    "from langchain_groq import ChatGroq"
   ]
  },
  {
   "cell_type": "code",
   "execution_count": null,
   "id": "59bd01e4",
   "metadata": {},
   "outputs": [],
   "source": [
    "api_key = ()\n",
    "os.environ['GROQ_API_KEY'] = api_key\n",
    "chat = ChatGroq(model='llama-3.3-70b-versatile')"
   ]
  },
  {
   "cell_type": "code",
   "execution_count": 35,
   "id": "ca10faeb",
   "metadata": {},
   "outputs": [
    {
     "name": "stdout",
     "output_type": "stream",
     "text": [
      "Sou um modelo de inteligência artificial conhecido como Llama. Llama significa \"Meta AI de modelo de linguagem grande\".\n"
     ]
    }
   ],
   "source": [
    "resposta = chat.invoke(\"Quem é você? \")\n",
    "print(resposta.content)"
   ]
  }
 ],
 "metadata": {
  "kernelspec": {
   "display_name": "Python 3",
   "language": "python",
   "name": "python3"
  },
  "language_info": {
   "codemirror_mode": {
    "name": "ipython",
    "version": 3
   },
   "file_extension": ".py",
   "mimetype": "text/x-python",
   "name": "python",
   "nbconvert_exporter": "python",
   "pygments_lexer": "ipython3",
   "version": "3.13.3"
  }
 },
 "nbformat": 4,
 "nbformat_minor": 5
}
