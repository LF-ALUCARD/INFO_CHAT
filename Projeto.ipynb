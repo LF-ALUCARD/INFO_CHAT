{
 "cells": [
  {
   "cell_type": "code",
   "execution_count": 33,
   "id": "ccf4268e",
   "metadata": {},
   "outputs": [],
   "source": [
    "import os\n",
    "from langchain_groq import ChatGroq"
   ]
  },
  {
   "cell_type": "code",
   "execution_count": null,
   "id": "59bd01e4",
   "metadata": {},
   "outputs": [],
   "source": [
    "api_key = ()\n",
    "os.environ['GROQ_API_KEY'] = api_key\n",
    "chat = ChatGroq(model='llama-3.3-70b-versatile')"
   ]
  },
  {
   "cell_type": "code",
   "execution_count": 38,
   "id": "ca10faeb",
   "metadata": {},
   "outputs": [
    {
     "name": "stdout",
     "output_type": "stream",
     "text": [
      "{'Usuário: ': 'Quem é você?'}\n",
      "{'Boot: ': 'Sou um modelo de inteligência artificial conhecido como Llama. Llama significa \"Meta AI de modelo de linguagem grande\".'}\n",
      "{'Usuário: ': 'sou um bom desenvolvedor?'}\n",
      "{'Boot: ': 'Essa é uma pergunta difícil de responder, pois a habilidade de um desenvolvedor depende de muitos fatores, como a linguagem de programação, a experiência, a complexidade dos projetos e a capacidade de resolução de problemas.\\n\\nNo entanto, aqui estão alguns pontos que podem indicar se você é um bom desenvolvedor:\\n\\n1. **Conhecimento sólido das linguagens de programação**: Você tem um entendimento profundo das linguagens de programação que trabalha, incluindo suas características, limitações e melhores práticas.\\n2. **Experiência em desenvolvimento de software**: Você tem experiência em desenvolver software, incluindo a criação de projetos do zero, manutenção de códigos existentes e resolução de problemas.\\n3. **Capacidade de resolução de problemas**: Você é capaz de identificar e resolver problemas de forma eficiente, utilizando ferramentas de depuração e técnicas de resolução de problemas.\\n4. **Comunicação eficaz**: Você é capaz de se comunicar de forma clara e eficaz com os colegas de trabalho, incluindo a explicação de conceitos técnicos e a discussão de soluções.\\n5. **Aprendizado contínuo**: Você está disposto a aprender novas tecnologias, linguagens de programação e técnicas, e a se manter atualizado com as últimas tendências e melhores práticas.\\n6. **Trabalho em equipe**: Você é capaz de trabalhar em equipe, incluindo a colaboração com outros desenvolvedores, designers e especialistas em negócios.\\n7. **Organização e gerenciamento de tempo**: Você é capaz de gerenciar seu tempo de forma eficiente, priorizando tarefas e entregando resultados de alta qualidade dentro dos prazos estabelecidos.\\n8. **Testes e validação**: Você é capaz de criar testes unitários e de integração, e de validar a funcionalidade do software antes de liberá-lo para produção.\\n9. **Segurança e privacidade**: Você é capaz de implementar medidas de segurança e privacidade adequadas, incluindo a proteção de dados sensíveis e a prevenção de vulnerabilidades.\\n10. **Feedback e melhoria contínua**: Você é capaz de receber feedback e críticas construtivas, e de utilizar essas informações para melhorar sua habilidade e a qualidade do seu trabalho.\\n\\nSe você se identifica com a maioria desses pontos, é provável que você seja um bom desenvolvedor. No entanto, é importante lembrar que a habilidade de um desenvolvedor é algo que pode ser melhorado com o tempo e a prática.\\n\\nE você, qual é sua experiência em desenvolvimento de software? Quais são suas habilidades e interesses?'}\n",
      "{'Usuário: ': 'quanto é 2+2?'}\n",
      "{'Boot: ': 'A resposta é: 4! Dois mais dois é igual a quatro.'}\n",
      "{'Usuário: ': 'ok, muito obrigado'}\n",
      "{'Boot: ': 'De nada! Foi um prazer ajudar. Se precisar de mais alguma coisa, não hesite em perguntar. Tenha um ótimo dia!'}\n",
      "Obrigado por usar nossos serviços\n"
     ]
    }
   ],
   "source": [
    "conversa = []\n",
    "\n",
    "while True:\n",
    "    pergunta = input(\"Digite sua pergunta: \")\n",
    "    if pergunta == 'x':\n",
    "        break\n",
    "    \n",
    "    conversa.append({\"Usuário: \": pergunta})\n",
    "    print(conversa[-1])\n",
    "    resposta = chat.invoke(pergunta)\n",
    "    conversa.append({\"Boot: \": resposta.content})\n",
    "    print(conversa[-1])\n",
    "\n",
    "print(\"Obrigado por usar nossos serviços\")"
   ]
  }
 ],
 "metadata": {
  "kernelspec": {
   "display_name": "Python 3",
   "language": "python",
   "name": "python3"
  },
  "language_info": {
   "codemirror_mode": {
    "name": "ipython",
    "version": 3
   },
   "file_extension": ".py",
   "mimetype": "text/x-python",
   "name": "python",
   "nbconvert_exporter": "python",
   "pygments_lexer": "ipython3",
   "version": "3.13.3"
  }
 },
 "nbformat": 4,
 "nbformat_minor": 5
}
